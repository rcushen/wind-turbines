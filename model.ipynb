{
 "cells": [
  {
   "attachments": {},
   "cell_type": "markdown",
   "metadata": {},
   "source": [
    "# Modelling\n",
    "\n",
    "Now that we have studied the data and acquired a basic understanding of wind turbine function, we are ready to build a model."
   ]
  },
  {
   "attachments": {},
   "cell_type": "markdown",
   "metadata": {},
   "source": [
    "## Approach\n",
    "\n",
    "My suggestion for Engine is to build a 'digital twin' of the wind turbine. This is a digital representation of the wind turbine, which we can use to simulate the behaviour of the wind turbine under a variety of conditions. We can then use this model to predict the future behaviour of the wind turbine, given a weather forecast, as well as identify when certain attributes of the wind turbine are not behaving as expected.\n",
    "\n",
    "One attribute that may be of particular interest is the *power curve*, which specified and guaranteed by the manufacturer. Per (Hau, 2005),\n",
    "\n",
    "> The power curve is a wind turbine’s official certificate of performance\n",
    "\n",
    "This sounds a lot like ship performance curves!\n"
   ]
  },
  {
   "attachments": {},
   "cell_type": "markdown",
   "metadata": {},
   "source": [
    "## Initial Experiments\n",
    "\n",
    "### A Simple Model\n",
    "\n",
    "To start with, let us construct a model of the active power output, as a function of the weather. We know that there is a direct causual relationship between these two observables, so we should be able to attain strong model performance.\n",
    "\n",
    "We can denote this simple model as\n",
    "\n",
    "$$ P = f(W) $$\n",
    "\n",
    "where $P \\in \\mathcal{P} \\subset \\mathbb{R}$ is the active power output, $W \\in \\mathcal{W} \\subset \\mathbb{R}^5$ is a vector of weather variables, composed of wind speed, wind direction (away from the nacelle), temperature, air pressure and humidity, and $f: \\mathcal{W} \\rightarrow \\mathbb{R}$ is a representation of the wind turbine system.\n",
    "\n",
    "However, we will immediately run into a problem here! The wind turbine system does not run in a vacuum – it is also attached to the power grid, meaning that the observed real power generated will also be a funtion of grid demand. But we do not have access to grid demand data...\n",
    "\n",
    "We can, however, use the reactive power output as a proxy (i.e. instrumental variable) for the grid demand, since:\n",
    "* Reactive power is correlated with grid demand (I think...)\n",
    "* Reactive power is not nominally correlated with the weather, and a priori, not correlated with active power.\n",
    "Our updated model is therefore\n",
    "\n",
    "$$ P = f(W, Q) $$\n",
    "\n",
    "where $Q \\in \\mathcal{Q} \\subset \\mathbb{R}$ is the reactive power output.\n",
    "\n",
    "So let's construct some simple models of this form, and see how they perform."
   ]
  },
  {
   "cell_type": "code",
   "execution_count": null,
   "metadata": {
    "vscode": {
     "languageId": "python"
    }
   },
   "outputs": [],
   "source": []
  },
  {
   "cell_type": "code",
   "execution_count": null,
   "metadata": {
    "vscode": {
     "languageId": "python"
    }
   },
   "outputs": [],
   "source": []
  },
  {
   "cell_type": "code",
   "execution_count": null,
   "metadata": {
    "vscode": {
     "languageId": "python"
    }
   },
   "outputs": [],
   "source": []
  },
  {
   "cell_type": "code",
   "execution_count": null,
   "metadata": {
    "vscode": {
     "languageId": "python"
    }
   },
   "outputs": [],
   "source": []
  },
  {
   "cell_type": "code",
   "execution_count": null,
   "metadata": {
    "vscode": {
     "languageId": "python"
    }
   },
   "outputs": [],
   "source": []
  },
  {
   "cell_type": "code",
   "execution_count": null,
   "metadata": {
    "vscode": {
     "languageId": "python"
    }
   },
   "outputs": [],
   "source": []
  },
  {
   "attachments": {},
   "cell_type": "markdown",
   "metadata": {},
   "source": [
    "## Ideas\n",
    "\n",
    "* Use a model to monitor the power curve for the turbine...\n",
    "\n",
    "\n",
    "## Future Improvements\n",
    "\n",
    "* Get a better measure of grid demand, such that we can isolate the effect of the weather on active power output.\n"
   ]
  }
 ],
 "metadata": {
  "kernelspec": {
   "display_name": "Python 3 (ipykernel)",
   "language": "python",
   "name": "python3"
  },
  "orig_nbformat": 4
 },
 "nbformat": 4,
 "nbformat_minor": 2
}
