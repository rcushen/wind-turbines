{
 "cells": [
  {
   "cell_type": "markdown",
   "metadata": {
    "slideshow": {
     "slide_type": "slide"
    }
   },
   "source": [
    "# Toqua Technical Interview\n",
    "\n",
    "Ryan Cushen\n",
    "\n",
    "Tuesday, 2 May 2023"
   ]
  },
  {
   "cell_type": "markdown",
   "metadata": {
    "slideshow": {
     "slide_type": "slide"
    },
    "tags": []
   },
   "source": [
    "## Table of Contents\n",
    "\n",
    "1. [Introduction](#introduction)\n",
    "2. [Technical Investigations](#technical-investigations)\n",
    "    1. [Wind Turbines: A Brief Overview](#wind-turbines-a-brief-overview)\n",
    "    3. [The Dataset](#the-dataset)\n",
    "    4. [My Big Idea](#my-big-idea)\n",
    "    5. [But: Oh No](#oh-no)\n",
    "    6. [An Alternative Approach](#an-alternative-approach)\n",
    "3. [Engie Proposition](#engie-proposition)\n",
    "4. [Conclusions](#conclusions)\n",
    "4. [Questions](#questions)"
   ]
  },
  {
   "cell_type": "code",
   "execution_count": 1,
   "metadata": {
    "slideshow": {
     "slide_type": "skip"
    }
   },
   "outputs": [],
   "source": [
    "import pandas as pd\n",
    "import numpy as np\n",
    "import matplotlib.pyplot as plt\n",
    "import seaborn as sns\n",
    "import folium\n",
    "import windrose\n",
    "import os\n",
    "\n",
    "from sqlalchemy import create_engine\n",
    "from dotenv import load_dotenv"
   ]
  },
  {
   "cell_type": "markdown",
   "metadata": {
    "slideshow": {
     "slide_type": "slide"
    }
   },
   "source": [
    "## Introduction\n",
    "\n",
    "Set the scene: Toqua wants to expand its services to the wind industry (wind turbines) and needs some ideas on how to do this.\n",
    "\n",
    "We have seen that Engie has an open data set available online and Engie’s head of Wind Turbines has agreed to take a meeting with Toqua in 2 weeks out of curiosity...\n",
    "\n",
    "The exam question: How can we provide value to Engie?"
   ]
  },
  {
   "cell_type": "markdown",
   "metadata": {
    "slideshow": {
     "slide_type": "subslide"
    }
   },
   "source": [
    "To answer this question, we will need to develop an understanding of the wind turbine industry, the available dataset, and demonstrate some concrete ideas for how Toque can help Engine improve its operations."
   ]
  },
  {
   "cell_type": "markdown",
   "metadata": {
    "slideshow": {
     "slide_type": "slide"
    }
   },
   "source": [
    "## Technical Investigations\n",
    "\n",
    "Let's get into some details..."
   ]
  },
  {
   "cell_type": "markdown",
   "metadata": {
    "jp-MarkdownHeadingCollapsed": true,
    "slideshow": {
     "slide_type": "subslide"
    },
    "tags": []
   },
   "source": [
    "### Wind Turbines: A Brief Overview\n",
    "\n",
    "Wind turbines convert kinetic wind energy into electrical energy.\n",
    "\n",
    "* Wind spins the rotor, which is connected to a gearbox, which is connected to a generator. Low speed, high torque goes to high speed, low torque.\n",
    "* It's all just basic physics: $P = \\tau \\omega$. In particular, power increases with the cube of wind speed (torque increases in the square). Air density (i.e. temperature and pressure) also play a role.\n",
    "* But the rotors are not spun arbitrarily fast! Instead, they typically operate around fixed bands, so power output is mostly a function of torque.\n",
    "* The rotor's control systems will ensure that the rotor is spun at the optimal speed, given the wind speed.\n",
    "* The input to the generator is therefore a given rotor speed and torque. The control systems of the generator will then manage the excitation level of the generator, to ensure that the maximum amount of power is being generated whilst also maintaining the stability of the grid. These outputs are captured by the active power and reactive power variables.\n"
   ]
  },
  {
   "cell_type": "markdown",
   "metadata": {
    "slideshow": {
     "slide_type": "subslide"
    }
   },
   "source": [
    "What about Engie's particular wind turbines?\n",
    "\n",
    "* Our wind turbines are the *Senvion MM82* model\n",
    "* This model starts working at a wind speed of 3.5 m/s and has a cut-out speed of 25 m/s.\n",
    "* It has a rated wind speed of 14.5 m/s and a rated power of 2,050kW. This is equivalent to about one-four-hundredth of the power of a nuclear reactor.\n",
    "* It also has a maximum rotor speed of 17 rpm, and a tipspeed of 73 m/s (which is 262km/h)"
   ]
  },
  {
   "cell_type": "markdown",
   "metadata": {
    "slideshow": {
     "slide_type": "subslide"
    }
   },
   "source": [
    "Here is a photo:\n",
    "\n",
    "![the wind turbine](references/turbine-senvion_mm82-DP71t6EmCB2.jpg)"
   ]
  },
  {
   "cell_type": "markdown",
   "metadata": {
    "jp-MarkdownHeadingCollapsed": true,
    "slideshow": {
     "slide_type": "subslide"
    },
    "tags": []
   },
   "source": [
    "### The Dataset\n",
    "\n",
    "The primary dataset is composed of hourly observations of 14 mechanical metrics taken from four wind turbines located across the Grand Est region in France, paired with hourly weather observations across 7 dimensions. This means a total of 21 numeric variables, indexed by hour and turbine.\n",
    "\n",
    "There are just over one million observations, with roughly 261,000 observations for each of the four turbines, dated between January 2013 and January 2018. In fact, the four turbines have exactly the same date range, but each are missing some records across the period.\n"
   ]
  },
  {
   "cell_type": "code",
   "execution_count": 2,
   "metadata": {
    "slideshow": {
     "slide_type": "skip"
    }
   },
   "outputs": [],
   "source": [
    "load_dotenv()\n",
    "DATABASE_URL = os.getenv(\"DATABASE_URL\")\n",
    "\n",
    "engine = create_engine(DATABASE_URL)\n",
    "conn = engine.connect()"
   ]
  },
  {
   "cell_type": "code",
   "execution_count": 3,
   "metadata": {
    "slideshow": {
     "slide_type": "skip"
    }
   },
   "outputs": [],
   "source": [
    "static_information = pd.read_sql(\"\"\"\n",
    "SELECT * FROM wind_turbines.static_information\n",
    "\"\"\", conn)\n",
    "\n",
    "coords = static_information[['wind_turbine_name', 'gps']].to_dict(orient='records')\n",
    "for coord in coords:\n",
    "    coord['gps'] = [float(x) for x in coord['gps'].split(',')]\n",
    "    coord['lat'] = coord['gps'][0]\n",
    "    coord['lon'] = coord['gps'][1]\n",
    "\n",
    "mean_lat = sum([coord['lat'] for coord in coords]) / len(coords)\n",
    "mean_lon = sum([coord['lon'] for coord in coords]) / len(coords)\n",
    "\n",
    "m = folium.Map(location=[mean_lat, mean_lon], zoom_start=13)\n",
    "\n",
    "for coord in coords:\n",
    "    folium.Marker(\n",
    "        location=[coord['lat'], coord['lon']],\n",
    "        popup=coord['wind_turbine_name'],\n",
    "        icon=folium.Icon(color='green', icon='ok-sign')\n",
    "    ).add_to(m)"
   ]
  },
  {
   "cell_type": "code",
   "execution_count": 4,
   "metadata": {
    "slideshow": {
     "slide_type": "subslide"
    }
   },
   "outputs": [
    {
     "data": {
      "text/html": [
       "<div style=\"width:100%;\"><div style=\"position:relative;width:100%;height:0;padding-bottom:60%;\"><span style=\"color:#565656\">Make this Notebook Trusted to load map: File -> Trust Notebook</span><iframe srcdoc=\"&lt;!DOCTYPE html&gt;\n",
       "&lt;html&gt;\n",
       "&lt;head&gt;\n",
       "    \n",
       "    &lt;meta http-equiv=&quot;content-type&quot; content=&quot;text/html; charset=UTF-8&quot; /&gt;\n",
       "    \n",
       "        &lt;script&gt;\n",
       "            L_NO_TOUCH = false;\n",
       "            L_DISABLE_3D = false;\n",
       "        &lt;/script&gt;\n",
       "    \n",
       "    &lt;style&gt;html, body {width: 100%;height: 100%;margin: 0;padding: 0;}&lt;/style&gt;\n",
       "    &lt;style&gt;#map {position:absolute;top:0;bottom:0;right:0;left:0;}&lt;/style&gt;\n",
       "    &lt;script src=&quot;https://cdn.jsdelivr.net/npm/leaflet@1.9.3/dist/leaflet.js&quot;&gt;&lt;/script&gt;\n",
       "    &lt;script src=&quot;https://code.jquery.com/jquery-1.12.4.min.js&quot;&gt;&lt;/script&gt;\n",
       "    &lt;script src=&quot;https://cdn.jsdelivr.net/npm/bootstrap@5.2.2/dist/js/bootstrap.bundle.min.js&quot;&gt;&lt;/script&gt;\n",
       "    &lt;script src=&quot;https://cdnjs.cloudflare.com/ajax/libs/Leaflet.awesome-markers/2.0.2/leaflet.awesome-markers.js&quot;&gt;&lt;/script&gt;\n",
       "    &lt;link rel=&quot;stylesheet&quot; href=&quot;https://cdn.jsdelivr.net/npm/leaflet@1.9.3/dist/leaflet.css&quot;/&gt;\n",
       "    &lt;link rel=&quot;stylesheet&quot; href=&quot;https://cdn.jsdelivr.net/npm/bootstrap@5.2.2/dist/css/bootstrap.min.css&quot;/&gt;\n",
       "    &lt;link rel=&quot;stylesheet&quot; href=&quot;https://netdna.bootstrapcdn.com/bootstrap/3.0.0/css/bootstrap.min.css&quot;/&gt;\n",
       "    &lt;link rel=&quot;stylesheet&quot; href=&quot;https://cdn.jsdelivr.net/npm/@fortawesome/fontawesome-free@6.2.0/css/all.min.css&quot;/&gt;\n",
       "    &lt;link rel=&quot;stylesheet&quot; href=&quot;https://cdnjs.cloudflare.com/ajax/libs/Leaflet.awesome-markers/2.0.2/leaflet.awesome-markers.css&quot;/&gt;\n",
       "    &lt;link rel=&quot;stylesheet&quot; href=&quot;https://cdn.jsdelivr.net/gh/python-visualization/folium/folium/templates/leaflet.awesome.rotate.min.css&quot;/&gt;\n",
       "    \n",
       "            &lt;meta name=&quot;viewport&quot; content=&quot;width=device-width,\n",
       "                initial-scale=1.0, maximum-scale=1.0, user-scalable=no&quot; /&gt;\n",
       "            &lt;style&gt;\n",
       "                #map_be5cdaf06978de4e939cd5b1f14f66a2 {\n",
       "                    position: relative;\n",
       "                    width: 100.0%;\n",
       "                    height: 100.0%;\n",
       "                    left: 0.0%;\n",
       "                    top: 0.0%;\n",
       "                }\n",
       "                .leaflet-container { font-size: 1rem; }\n",
       "            &lt;/style&gt;\n",
       "        \n",
       "&lt;/head&gt;\n",
       "&lt;body&gt;\n",
       "    \n",
       "    \n",
       "            &lt;div class=&quot;folium-map&quot; id=&quot;map_be5cdaf06978de4e939cd5b1f14f66a2&quot; &gt;&lt;/div&gt;\n",
       "        \n",
       "&lt;/body&gt;\n",
       "&lt;script&gt;\n",
       "    \n",
       "    \n",
       "            var map_be5cdaf06978de4e939cd5b1f14f66a2 = L.map(\n",
       "                &quot;map_be5cdaf06978de4e939cd5b1f14f66a2&quot;,\n",
       "                {\n",
       "                    center: [48.451575, 5.587899999999999],\n",
       "                    crs: L.CRS.EPSG3857,\n",
       "                    zoom: 13,\n",
       "                    zoomControl: true,\n",
       "                    preferCanvas: false,\n",
       "                }\n",
       "            );\n",
       "\n",
       "            \n",
       "\n",
       "        \n",
       "    \n",
       "            var tile_layer_6e95c96143b5022d6ab7546c570ea88f = L.tileLayer(\n",
       "                &quot;https://{s}.tile.openstreetmap.org/{z}/{x}/{y}.png&quot;,\n",
       "                {&quot;attribution&quot;: &quot;Data by \\u0026copy; \\u003ca target=\\&quot;_blank\\&quot; href=\\&quot;http://openstreetmap.org\\&quot;\\u003eOpenStreetMap\\u003c/a\\u003e, under \\u003ca target=\\&quot;_blank\\&quot; href=\\&quot;http://www.openstreetmap.org/copyright\\&quot;\\u003eODbL\\u003c/a\\u003e.&quot;, &quot;detectRetina&quot;: false, &quot;maxNativeZoom&quot;: 18, &quot;maxZoom&quot;: 18, &quot;minZoom&quot;: 0, &quot;noWrap&quot;: false, &quot;opacity&quot;: 1, &quot;subdomains&quot;: &quot;abc&quot;, &quot;tms&quot;: false}\n",
       "            ).addTo(map_be5cdaf06978de4e939cd5b1f14f66a2);\n",
       "        \n",
       "    \n",
       "            var marker_edeb4017b4719e7906008338bdb1adad = L.marker(\n",
       "                [48.4461, 5.5925],\n",
       "                {}\n",
       "            ).addTo(map_be5cdaf06978de4e939cd5b1f14f66a2);\n",
       "        \n",
       "    \n",
       "            var icon_e9ad3b80e57f3a8a1e224cdaeac0279a = L.AwesomeMarkers.icon(\n",
       "                {&quot;extraClasses&quot;: &quot;fa-rotate-0&quot;, &quot;icon&quot;: &quot;ok-sign&quot;, &quot;iconColor&quot;: &quot;white&quot;, &quot;markerColor&quot;: &quot;green&quot;, &quot;prefix&quot;: &quot;glyphicon&quot;}\n",
       "            );\n",
       "            marker_edeb4017b4719e7906008338bdb1adad.setIcon(icon_e9ad3b80e57f3a8a1e224cdaeac0279a);\n",
       "        \n",
       "    \n",
       "        var popup_37c86c0f7dc922369d6738dca6d18145 = L.popup({&quot;maxWidth&quot;: &quot;100%&quot;});\n",
       "\n",
       "        \n",
       "            \n",
       "                var html_f9478e9eee710663dee7e410e1f821c4 = $(`&lt;div id=&quot;html_f9478e9eee710663dee7e410e1f821c4&quot; style=&quot;width: 100.0%; height: 100.0%;&quot;&gt;R80736&lt;/div&gt;`)[0];\n",
       "                popup_37c86c0f7dc922369d6738dca6d18145.setContent(html_f9478e9eee710663dee7e410e1f821c4);\n",
       "            \n",
       "        \n",
       "\n",
       "        marker_edeb4017b4719e7906008338bdb1adad.bindPopup(popup_37c86c0f7dc922369d6738dca6d18145)\n",
       "        ;\n",
       "\n",
       "        \n",
       "    \n",
       "    \n",
       "            var marker_69f2c4466314fa6df86a48ae8298afdc = L.marker(\n",
       "                [48.4497, 5.5869],\n",
       "                {}\n",
       "            ).addTo(map_be5cdaf06978de4e939cd5b1f14f66a2);\n",
       "        \n",
       "    \n",
       "            var icon_6d0cc6f5cb7e44de127abef73c0a25c5 = L.AwesomeMarkers.icon(\n",
       "                {&quot;extraClasses&quot;: &quot;fa-rotate-0&quot;, &quot;icon&quot;: &quot;ok-sign&quot;, &quot;iconColor&quot;: &quot;white&quot;, &quot;markerColor&quot;: &quot;green&quot;, &quot;prefix&quot;: &quot;glyphicon&quot;}\n",
       "            );\n",
       "            marker_69f2c4466314fa6df86a48ae8298afdc.setIcon(icon_6d0cc6f5cb7e44de127abef73c0a25c5);\n",
       "        \n",
       "    \n",
       "        var popup_34fe783811f64d840bea81455d7b3f87 = L.popup({&quot;maxWidth&quot;: &quot;100%&quot;});\n",
       "\n",
       "        \n",
       "            \n",
       "                var html_d88b43199472b53ea416e0057a3ba7c4 = $(`&lt;div id=&quot;html_d88b43199472b53ea416e0057a3ba7c4&quot; style=&quot;width: 100.0%; height: 100.0%;&quot;&gt;R80721&lt;/div&gt;`)[0];\n",
       "                popup_34fe783811f64d840bea81455d7b3f87.setContent(html_d88b43199472b53ea416e0057a3ba7c4);\n",
       "            \n",
       "        \n",
       "\n",
       "        marker_69f2c4466314fa6df86a48ae8298afdc.bindPopup(popup_34fe783811f64d840bea81455d7b3f87)\n",
       "        ;\n",
       "\n",
       "        \n",
       "    \n",
       "    \n",
       "            var marker_597cb8065656471fe8fc8e6b0fcc3147 = L.marker(\n",
       "                [48.4569, 5.5847],\n",
       "                {}\n",
       "            ).addTo(map_be5cdaf06978de4e939cd5b1f14f66a2);\n",
       "        \n",
       "    \n",
       "            var icon_da21a4e16a97c29167a39981a63a9526 = L.AwesomeMarkers.icon(\n",
       "                {&quot;extraClasses&quot;: &quot;fa-rotate-0&quot;, &quot;icon&quot;: &quot;ok-sign&quot;, &quot;iconColor&quot;: &quot;white&quot;, &quot;markerColor&quot;: &quot;green&quot;, &quot;prefix&quot;: &quot;glyphicon&quot;}\n",
       "            );\n",
       "            marker_597cb8065656471fe8fc8e6b0fcc3147.setIcon(icon_da21a4e16a97c29167a39981a63a9526);\n",
       "        \n",
       "    \n",
       "        var popup_3890b68e0bd76076fe8d4adce237bad1 = L.popup({&quot;maxWidth&quot;: &quot;100%&quot;});\n",
       "\n",
       "        \n",
       "            \n",
       "                var html_f3b6faf80c495a649aa26af456a7048f = $(`&lt;div id=&quot;html_f3b6faf80c495a649aa26af456a7048f&quot; style=&quot;width: 100.0%; height: 100.0%;&quot;&gt;R80711&lt;/div&gt;`)[0];\n",
       "                popup_3890b68e0bd76076fe8d4adce237bad1.setContent(html_f3b6faf80c495a649aa26af456a7048f);\n",
       "            \n",
       "        \n",
       "\n",
       "        marker_597cb8065656471fe8fc8e6b0fcc3147.bindPopup(popup_3890b68e0bd76076fe8d4adce237bad1)\n",
       "        ;\n",
       "\n",
       "        \n",
       "    \n",
       "    \n",
       "            var marker_bc7993ee43ed3024f8589941a178f1cf = L.marker(\n",
       "                [48.4536, 5.5875],\n",
       "                {}\n",
       "            ).addTo(map_be5cdaf06978de4e939cd5b1f14f66a2);\n",
       "        \n",
       "    \n",
       "            var icon_562013dfc9c9b8b273c4105d20cf6c52 = L.AwesomeMarkers.icon(\n",
       "                {&quot;extraClasses&quot;: &quot;fa-rotate-0&quot;, &quot;icon&quot;: &quot;ok-sign&quot;, &quot;iconColor&quot;: &quot;white&quot;, &quot;markerColor&quot;: &quot;green&quot;, &quot;prefix&quot;: &quot;glyphicon&quot;}\n",
       "            );\n",
       "            marker_bc7993ee43ed3024f8589941a178f1cf.setIcon(icon_562013dfc9c9b8b273c4105d20cf6c52);\n",
       "        \n",
       "    \n",
       "        var popup_55862f43f106cadb05b4661d89823291 = L.popup({&quot;maxWidth&quot;: &quot;100%&quot;});\n",
       "\n",
       "        \n",
       "            \n",
       "                var html_7aa295ffefdab9465aece55fbe2db7d7 = $(`&lt;div id=&quot;html_7aa295ffefdab9465aece55fbe2db7d7&quot; style=&quot;width: 100.0%; height: 100.0%;&quot;&gt;R80790&lt;/div&gt;`)[0];\n",
       "                popup_55862f43f106cadb05b4661d89823291.setContent(html_7aa295ffefdab9465aece55fbe2db7d7);\n",
       "            \n",
       "        \n",
       "\n",
       "        marker_bc7993ee43ed3024f8589941a178f1cf.bindPopup(popup_55862f43f106cadb05b4661d89823291)\n",
       "        ;\n",
       "\n",
       "        \n",
       "    \n",
       "&lt;/script&gt;\n",
       "&lt;/html&gt;\" style=\"position:absolute;width:100%;height:100%;left:0;top:0;border:none !important;\" allowfullscreen webkitallowfullscreen mozallowfullscreen></iframe></div></div>"
      ],
      "text/plain": [
       "<folium.folium.Map at 0x14f5da1d0>"
      ]
     },
     "execution_count": 4,
     "metadata": {},
     "output_type": "execute_result"
    }
   ],
   "source": [
    "m"
   ]
  },
  {
   "cell_type": "code",
   "execution_count": 5,
   "metadata": {
    "slideshow": {
     "slide_type": "skip"
    }
   },
   "outputs": [],
   "source": [
    "conn.close()"
   ]
  },
  {
   "cell_type": "markdown",
   "metadata": {
    "slideshow": {
     "slide_type": "subslide"
    }
   },
   "source": [
    "The 14 mechanical metrics and 7 weather metrics can be distinguished into a few categories:\n",
    "\n",
    "* Mechanical – Wind\n",
    "    * `ws`: wind speed in m/s\n",
    "    * `ws_1`: wind speed in m/s for the first anemometer on the nacelle\n",
    "    * `ws_2`: wind speed in m/s for the second anemometer on the nacelle\n",
    "    * `wa`: wind direction in degrees\n",
    "* Mechanical – Positioning\n",
    "    * `ba`: pitch angle of the blades in degrees\n",
    "    * `va`: vane position, which is the angular position of the wind vane, in degrees\n",
    "    * `ya`: nacelle angle in degrees\n",
    "* Mechanical – Temperatures\n",
    "    * `ot`: outdoor temperature in degrees Celsius\n",
    "    * `yt`: nacelle temperature in degrees Celsius\n",
    "    * `rbt`: rotor bearing temperature in degrees Celsius\n",
    "* Mechanical – Power\n",
    "    * `rm`: torque in Nm\n",
    "    * `rs`: rotor speed in rpm\n",
    "    * `p`: active power (i.e. \"real power\") in kW\n",
    "    * `q`: reactive power in kVAr\n"
   ]
  },
  {
   "cell_type": "markdown",
   "metadata": {
    "slideshow": {
     "slide_type": "subslide"
    }
   },
   "source": [
    "* Weather\n",
    "    * `temp`: the outside temperature in degrees Celsius\n",
    "    * `pressure`: the outside pressure in hPa\n",
    "    * `humidity`: the outside humidity in %\n",
    "    * `wind_speed`: the wind speed in m/s\n",
    "    * `wind_deg`: the wind direction in degrees\n",
    "    * `rain_1h`: the quantity of rain in the last hour in mm\n",
    "    * `snow_1h`: the quantity of snow in the last hour in mm"
   ]
  },
  {
   "cell_type": "markdown",
   "metadata": {
    "slideshow": {
     "slide_type": "subslide"
    }
   },
   "source": [
    "Let's create some plots!"
   ]
  },
  {
   "cell_type": "markdown",
   "metadata": {
    "slideshow": {
     "slide_type": "fragment"
    }
   },
   "source": [
    "We need to do some data cleaning... I chose parametric truncation. This is a bit of a hack, but it's quick and easy."
   ]
  },
  {
   "cell_type": "markdown",
   "metadata": {
    "slideshow": {
     "slide_type": "subslide"
    }
   },
   "source": [
    "And let's also create a few new variables:\n",
    "\n",
    "* `ws_sq`: wind speed squared, since rotor torque is proportional to the square of wind speed\n",
    "* `ws_cb`: wind speed cubed, since rotor power is proportional to the cube of wind speed\n",
    "* `ws_a`: actual wind speed, since the wind speed measured by the anemometer is not the same as that experienced by the turbine if it is not facing directly into the wind\n",
    "* `temp_6hr`: a rolling average of temperature over the past 6 hours, to capture the persistent effect of temperature on the turbine\n",
    "* `rho`: pressure divided by temperature, as a proxy for air density\n",
    "* `rs_n`: normalised rotor speed, as a ratio to maximum rotor speed (17 rpm)\n",
    "* `ro`: whether the rotor is running without wind power, i.e. wind speed is zero but wind speed is not\n"
   ]
  },
  {
   "cell_type": "markdown",
   "metadata": {
    "slideshow": {
     "slide_type": "subslide"
    }
   },
   "source": [
    "* `ts`: tip speed ratio, as a ratio of rotor speed to wind speed\n",
    "* `rsm`: rotor speed-torque gradient\n",
    "* `o`: a boolean, indicating whether the wind speed is within the operational range of the turbine (i.e. between cut-in and cut-out speeds)\n",
    "* `tg`: the ratio of temperatures outside and inside the nacelle, as a proxy for the efficiency of the cooling system\n",
    "* `s`: apparent power, defined as $S = \\sqrt{P^2 + Q^2}$\n",
    "* `pf`: the power factor, defined as $\\cos \\phi = \\frac{P}{S}$\n",
    "* Four indicators for each six-hour block of the day, to capture varying grid demand:\n",
    "    * `d1`: 00:00 - 06:00\n",
    "    * `d2`: 06:00 - 12:00\n",
    "    * `d3`: 12:00 - 18:00\n",
    "    * `d4`: 18:00 - 00:00"
   ]
  },
  {
   "cell_type": "markdown",
   "metadata": {
    "jp-MarkdownHeadingCollapsed": true,
    "slideshow": {
     "slide_type": "subslide"
    },
    "tags": []
   },
   "source": [
    "### My Big Idea\n",
    "\n",
    "So we know how wind turbines work, and we have some data on four wind turbines. What can we do with this?"
   ]
  },
  {
   "cell_type": "markdown",
   "metadata": {
    "slideshow": {
     "slide_type": "subslide"
    }
   },
   "source": [
    "Let's build a digital twin! This could function as a dynamic 'lookup table', which could be used for two important purposes:\n",
    "\n",
    "* **Forecasting**: Given a set of inputs (e.g. a weather forecast), we could use the digital twin to predict the expected output of the turbine by \"looking up\" the closest historical analogue.\n",
    "* **Anomaly detection**: Given a set of inputs (e.g. the current weather), we could use the digital twin to predict the expected output of the turbine, and then compare this to the actual output. If there is a significant difference, then we could flag this as an anomaly."
   ]
  },
  {
   "cell_type": "markdown",
   "metadata": {
    "slideshow": {
     "slide_type": "subslide"
    }
   },
   "source": [
    "Mathematically, a digital twin defined in this way is just a big joint probability distribution, defined over the state space of the turbine. \"Looking up\" a value is then equivalent to computing conditional probabilities. This formulation also has the added benefit of being flexible; we can compute conditional probabilities using just one variable, or many variables."
   ]
  },
  {
   "cell_type": "markdown",
   "metadata": {
    "slideshow": {
     "slide_type": "fragment"
    }
   },
   "source": [
    "But this is a very high-dimensional state space... and we know there are some physically-informed causal relationships between the variables. So instead of just doing a big Gaussian mixture model, we could model the joint probability distribution using a Bayesian network."
   ]
  },
  {
   "cell_type": "markdown",
   "metadata": {
    "slideshow": {
     "slide_type": "fragment"
    }
   },
   "source": [
    "We can also make this Bayesian network dynamic, allowing the digital twin to evolve over time (i.e. learn 'online') as new data from the physical twin was received."
   ]
  },
  {
   "cell_type": "markdown",
   "metadata": {
    "slideshow": {
     "slide_type": "subslide"
    }
   },
   "source": [
    "To make this discussion a little more tangible, we can specify a rough outline of the desired API for interacting with this digital twin. Ideally, it would look something like:\n",
    "\n",
    "```python\n",
    "import DigitalTwin from toqua\n",
    "\n",
    "# Create a new wind turbine\n",
    "wt = DigitalTwin(type=\"wind_turbine\")\n",
    "\n",
    "# Train the wind turbine on some data\n",
    "wt.train(data)\n",
    "\n",
    "# Query the wind turbine\n",
    "wt.query(\n",
    "    inputs={\n",
    "        'wind_speed': 10,\n",
    "        'rotor_speed': 10,\n",
    "        'air_pressure': 1000\n",
    "    },\n",
    "    output='power'\n",
    ")\n",
    "# -> returns a probability distribution over power (and a MAP estimate)\n",
    "```\n"
   ]
  },
  {
   "cell_type": "markdown",
   "metadata": {
    "slideshow": {
     "slide_type": "subslide"
    }
   },
   "source": [
    "```python\n",
    "wt.query(\n",
    "    inputs={\n",
    "        'wind_speed': 10,\n",
    "    },\n",
    "    output='power'\n",
    ")\n",
    "# -> returns a probability distribution over power (and a MAP estimate)\n",
    "# Assess an observation for anomalous behaviour\n",
    "wt.assess(\n",
    "    inputs={\n",
    "        'wind_speed': 10,\n",
    "        'rotor_speed': 10,\n",
    "        'air_pressure': 1000,\n",
    "        'power': 1000\n",
    "    }\n",
    ")\n",
    "# -> returns a judgement on whether the observation is anomalous\n",
    "\n",
    "# Update the twin with new data\n",
    "wt.update(data)\n",
    "```"
   ]
  },
  {
   "cell_type": "markdown",
   "metadata": {
    "slideshow": {
     "slide_type": "subslide"
    },
    "tags": []
   },
   "source": [
    "### But: Oh No\n",
    "\n",
    "I couldn't find any Python libraries for doing this! I found a few that could do discrete variables, but none that could run the updates and queries for continuous variables."
   ]
  },
  {
   "cell_type": "markdown",
   "metadata": {
    "slideshow": {
     "slide_type": "fragment"
    },
    "tags": []
   },
   "source": [
    "But I still think this is a really powerful idea... and I would have implemented it myself.."
   ]
  },
  {
   "cell_type": "markdown",
   "metadata": {
    "slideshow": {
     "slide_type": "subslide"
    },
    "tags": []
   },
   "source": [
    "### An Alternative Approach\n",
    "\n",
    "Okay, so we can't build a Bayesian Network just yet. Perhaps we can just build an ensemble of regression models that can predict any variables of interest? This could kind-of function the same way... and at least we could demonstrate that the problem is soluble."
   ]
  },
  {
   "cell_type": "markdown",
   "metadata": {
    "slideshow": {
     "slide_type": "subslide"
    },
    "tags": []
   },
   "source": [
    "#### The Simplest Model\n",
    "\n",
    "Let's start with the simplest possible model: weather -> power. We know that there is a direct causal relationship here, so we should be able to attain strong model performance."
   ]
  },
  {
   "cell_type": "markdown",
   "metadata": {
    "slideshow": {
     "slide_type": "subslide"
    },
    "tags": []
   },
   "source": [
    "We can denote this simple model as\n",
    "\n",
    "$$ P = f(W) $$\n",
    "\n",
    "where $P \\in \\mathcal{P} \\subset \\mathbb{R}$ is the active power output, $W \\in \\mathcal{W} \\subset \\mathbb{R}^5$ is a vector of weather variables, composed of wind speed, wind direction (away from the nacelle), temperature, air pressure and humidity, and $f: \\mathcal{W} \\rightarrow \\mathbb{R}$ is a representation of the wind turbine system.\n",
    "\n",
    "However, we will immediately run into a problem here! The wind turbine system does not run in a vacuum – it is also attached to the power grid, meaning that the observed real power generated will also be a funtion of grid demand. But we do not have access to grid demand data...\n",
    "\n",
    "We can, however, use the reactive power output as a proxy (i.e. instrumental variable) for the grid demand, since:\n",
    "* Reactive power is correlated with grid demand (I think...)\n",
    "* Reactive power is not nominally correlated with the weather, and a priori, not correlated with active power.\n",
    "Our updated model is therefore\n",
    "\n",
    "$$ P = f(W, Q) $$\n",
    "\n",
    "where $Q \\in \\mathcal{Q} \\subset \\mathbb{R}$ is the reactive power output."
   ]
  },
  {
   "cell_type": "markdown",
   "metadata": {
    "slideshow": {
     "slide_type": "subslide"
    },
    "tags": []
   },
   "source": [
    "* Linear model: $R^2 = 80\\%$\n",
    "* Gradient boosting: $R^2 = 99\\%$"
   ]
  },
  {
   "cell_type": "markdown",
   "metadata": {
    "slideshow": {
     "slide_type": "subslide"
    },
    "tags": []
   },
   "source": [
    "#### A Physics-Informed Model\n",
    "\n",
    "But let's apply some knowledge of physics. For example, know that active power generation is almost perfectly linear in rotor torque... and that rotor torque increases in the square of wind speed and linearly in air density. So let's include these fields and run the same models again."
   ]
  },
  {
   "cell_type": "markdown",
   "metadata": {
    "slideshow": {
     "slide_type": "subslide"
    },
    "tags": []
   },
   "source": [
    "* Linear model: $R^2 = 92\\%$ or $+12\\%$\n",
    "* Gradient boosting: $R^2 = 99\\%$, little to no change"
   ]
  },
  {
   "cell_type": "markdown",
   "metadata": {
    "slideshow": {
     "slide_type": "subslide"
    },
    "tags": []
   },
   "source": [
    "The large improvement in the linear model suggests that there is some 'information gain' in the new variables; the lack of improvement in XGBoost is probably an issue with overfitting."
   ]
  },
  {
   "cell_type": "markdown",
   "metadata": {
    "slideshow": {
     "slide_type": "fragment"
    },
    "tags": []
   },
   "source": [
    "But this is cleary a very soluble problem! Given a small vector of observables, we can predict active power generation to a high degree of accuracy. "
   ]
  },
  {
   "cell_type": "markdown",
   "metadata": {
    "slideshow": {
     "slide_type": "slide"
    },
    "tags": []
   },
   "source": [
    "## Engie Proposition\n",
    "\n",
    "So my technical investigations were not quite as fruitful as I had hoped... but I think we could still form a strong pitch for Engie."
   ]
  },
  {
   "cell_type": "markdown",
   "metadata": {
    "slideshow": {
     "slide_type": "subslide"
    },
    "tags": []
   },
   "source": [
    "*We are working on an innovative new approach to modelling Digital Twins, and we want to partner with you for a proof of concept. Our model will provide a probability network defined over each physical asset, allowing you to answer questions like:*\n",
    "\n",
    "* \"Oil temperature looks like it is running hot. How likely is this, given the current weather conditions and grid demand?\"\n",
    "* \"Here is a weather forecast for the next week. What is the range of power generation outcomes that I should expect?\n",
    "* \"Have there been any recent anomalous events that I should investigate?\"\n",
    "* \"Has asset performance remained consistent over the past month? If not, what has deteriorated?\"\n",
    "\n",
    "*This will include an intuitive and semantic API that allows you to easily train, query and update the model based on the data you have already made publically available.*\n",
    "\n",
    "*We don't yet have a working version, but to demonstrate that we serious, we have built some physics-informed predictive models that take a more classical approach, which achieve very high levels of performance. Concretely, given a few weather observations, we can predict active power generation with 99% accuracy. These will be embedded in our probability network model, so you can be confident that our new approach will be performant.*"
   ]
  },
  {
   "cell_type": "markdown",
   "metadata": {
    "slideshow": {
     "slide_type": "slide"
    },
    "tags": []
   },
   "source": [
    "## Conclusions\n",
    "\n",
    "So everything didn't quite go to plan... but I think there is still a lot of potential in this space."
   ]
  },
  {
   "cell_type": "markdown",
   "metadata": {
    "slideshow": {
     "slide_type": "subslide"
    },
    "tags": []
   },
   "source": [
    "My next steps would be:\n",
    "* Try and build the continuous Bayesian Network model! Shouldn't be too hard...\n",
    "* ...assuming that this idea is indeed valid. I can't be the first person to think of this...\n",
    "* Get some better measures of grid demand. This is a crucial input in the power generation model.\n",
    "* Talk to a wind turbine engineer"
   ]
  },
  {
   "cell_type": "markdown",
   "metadata": {
    "slideshow": {
     "slide_type": "slide"
    },
    "tags": []
   },
   "source": [
    "## Questions"
   ]
  }
 ],
 "metadata": {
  "kernelspec": {
   "display_name": "conda_amazonei_pytorch_latest_p37",
   "language": "python",
   "name": "conda_amazonei_pytorch_latest_p37"
  },
  "language_info": {
   "codemirror_mode": {
    "name": "ipython",
    "version": 3
   },
   "file_extension": ".py",
   "mimetype": "text/x-python",
   "name": "python",
   "nbconvert_exporter": "python",
   "pygments_lexer": "ipython3",
   "version": "3.7.10"
  }
 },
 "nbformat": 4,
 "nbformat_minor": 4
}
